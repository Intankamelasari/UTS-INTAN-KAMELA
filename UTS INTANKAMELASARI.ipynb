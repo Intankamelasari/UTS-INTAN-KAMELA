{
 "cells": [
  {
   "cell_type": "code",
   "execution_count": 1,
   "id": "bd34e923-a21b-42cf-96e8-071848a2bb7e",
   "metadata": {},
   "outputs": [],
   "source": [
    "company_name_list = [{'name': 'Company 1'},\n",
    "          {'name': 'Company 2'},\n",
    "          {'name': 'Company 3'}]\n",
    "\n",
    "employee_name_list = [{'name': 'John Doe'},\n",
    "          {'name': 'Tom Smith'},\n",
    "          {'name': 'Andrew Sebastian'}]\n",
    "\n",
    "company_detail_list = {\n",
    "      'Company 1': {\n",
    "          'name': 'Company 1',\n",
    "          'domain': 'Retail',\n",
    "          'clients': [\n",
    "              {\n",
    "                  'name': 'acme.inc',\n",
    "                  'country': 'united states'\n",
    "              },\n",
    "              {\n",
    "                  'name': 'Wayne.co',\n",
    "                  'country': 'united states'\n",
    "              }\n",
    "          ]\n",
    "      },\n",
    "      'Company 2': {\n",
    "          'name': 'Company 2',\n",
    "          'domain': 'Construction',\n",
    "          'clients': [\n",
    "              {\n",
    "                  'name': 'Tesla',\n",
    "                  'country': 'united states'\n",
    "              },\n",
    "              {\n",
    "                  'name': 'Japan Airlines',\n",
    "                  'country': 'japan'\n",
    "              },\n",
    "              {\n",
    "                  'name': 'Indofood',\n",
    "                  'country': 'indonesia'\n",
    "              }\n",
    "          ]\n",
    "      },\n",
    "      'Company 3': {\n",
    "          'name': 'Company 3',\n",
    "          'domain': 'Healthcare',\n",
    "          'clients': [\n",
    "              {\n",
    "                  'name': 'Petronas',\n",
    "                  'country': 'malaysia'\n",
    "              },\n",
    "              {\n",
    "                  'name': 'VW Group',\n",
    "                  'country': 'germany'\n",
    "              },\n",
    "              {\n",
    "                  'name': 'IBM',\n",
    "                  'country': 'united states'\n",
    "              },\n",
    "              {\n",
    "                  'name': 'Mitsubishi',\n",
    "                  'country': 'japan'\n",
    "              }\n",
    "          ]\n",
    "      }\n",
    "  }\n",
    "\n",
    "employee_detail_list = {\n",
    "      'John Doe': {\n",
    "          'name': 'EMP-0001',\n",
    "          'first_name': 'John',\n",
    "          'last_name': 'Doe',\n",
    "          'full_name': 'John Doe',\n",
    "          'company': 'Company 1'\n",
    "      },\n",
    "      'Tom Smith': {\n",
    "          'name': 'EMP-0002',\n",
    "          'first_name': 'Tom',\n",
    "          'last_name': 'Smith',\n",
    "          'full_name': 'Tom Smith',\n",
    "          'company': 'Company 2'\n",
    "      },\n",
    "      'Andrew Sebastian': {\n",
    "          'name': 'EMP-0003',\n",
    "          'first_name': 'Andrew',\n",
    "          'last_name': 'Sebastian',\n",
    "          'full_name': 'Andrew Sebastian',\n",
    "          'company': 'Company 2'\n",
    "      },\n",
    "  }"
   ]
  },
  {
   "cell_type": "code",
   "execution_count": 2,
   "id": "0ca19e65-793c-4527-8b11-2a4bca442c1a",
   "metadata": {},
   "outputs": [
    {
     "name": "stdout",
     "output_type": "stream",
     "text": [
      "Name: Company 1\n",
      "Domain: Retail\n",
      "\n",
      "Name: Company 2\n",
      "Domain: Construction\n",
      "\n",
      "Name: Company 3\n",
      "Domain: Healthcare\n",
      "\n"
     ]
    }
   ],
   "source": [
    "def sort_company(company_list):\n",
    "    for company_name, company_detail in company_detail_list.items():\n",
    "        print(\"Name:\", company_detail['name'])\n",
    "        print(\"Domain:\", company_detail['domain'])\n",
    "        print()\n",
    "\n",
    "company_detail_list = {\n",
    "      'Company 1': {\n",
    "          'name': 'Company 1',\n",
    "          'domain': 'Retail'},\n",
    "    'Company 2': {\n",
    "          'name': 'Company 2',\n",
    "          'domain': 'Construction'},\n",
    "     'Company 3': {\n",
    "          'name': 'Company 3',\n",
    "          'domain': 'Healthcare'}}\n",
    "     \n",
    "\n",
    "   \n",
    "sort_company(company_detail_list)"
   ]
  },
  {
   "cell_type": "code",
   "execution_count": null,
   "id": "da759d5a-ef72-4eff-ad0e-0704d653581f",
   "metadata": {},
   "outputs": [],
   "source": [
    "Soal no 2\n"
   ]
  },
  {
   "cell_type": "code",
   "execution_count": null,
   "id": "aa6fc633-cdeb-4809-8586-6c8d94847fd4",
   "metadata": {},
   "outputs": [],
   "source": [
    "def get_company_domain(company_detail_list):\n",
    "    for company_name, details in company_detail_list.items():\n",
    "        domain = details['domain']\n",
    "        num_clients = len(details['clients'])\n",
    "        print(f\"{company_name}: {domain}, relation: {num_clients} clients\")\n",
    "get_company_domain(company_detail_list)"
   ]
  },
  {
   "cell_type": "code",
   "execution_count": null,
   "id": "d3827e81-a5a0-4bbf-8d27-6f4eafc9f4b6",
   "metadata": {},
   "outputs": [],
   "source": [
    "soal no 3"
   ]
  },
  {
   "cell_type": "code",
   "execution_count": null,
   "id": "f0a786bf-592f-4ae7-b4ac-7146dad27a0a",
   "metadata": {},
   "outputs": [],
   "source": [
    "def print_employee_company_domain():\n",
    "    for employee_name, employee_detail in employee_detail_list.items():\n",
    "        company_name = employee_detail['company']\n",
    "        company_domain = company_detail_list[company_name]['domain']\n",
    "        full_name = employee_detail['full_name']\n",
    "        print(f'\"full_name\": \"{full_name}\", \"company\": \"{company_name}\", \"domain\": \"{company_domain}\"')\n",
    "\n",
    "# Memanggil fungsi untuk mencetak detail karyawan, perusahaan, dan domain\n",
    "print_employee_company_domain()"
   ]
  },
  {
   "cell_type": "code",
   "execution_count": null,
   "id": "3281b4d1-5ca7-4356-8a12-1e38b6435f7e",
   "metadata": {},
   "outputs": [],
   "source": [
    "Soal no 4"
   ]
  },
  {
   "cell_type": "code",
   "execution_count": 6,
   "id": "ac9bf047-36ff-40c1-9c04-f475940ec2f4",
   "metadata": {},
   "outputs": [
    {
     "data": {
      "text/plain": [
       "[{'company': 'Company 1', 'employees': ['John Doe']},\n",
       " {'company': 'Company 2', 'employees': ['Tom Smith', 'Andrew Sebastian']},\n",
       " {'company': 'Company 3', 'employees': []}]"
      ]
     },
     "execution_count": 6,
     "metadata": {},
     "output_type": "execute_result"
    }
   ],
   "source": [
    "def get_employees_by_company():\n",
    " \n",
    "\n",
    "  companies_with_employees = []\n",
    "  for company_name, company_detail in company_detail_list.items():\n",
    "    employees = [emp for emp, details in employee_detail_list.items() if details['company'] == company_name]\n",
    "    company_info = {\n",
    "      \"company\": company_name,\n",
    "      \"employees\": employees\n",
    "    }\n",
    "    companies_with_employees.append(company_info)\n",
    "\n",
    "  \n",
    "\n",
    "  return companies_with_employees  # Optional, if you need the list returned\n",
    "\n",
    "\n",
    "get_employees_by_company()\n"
   ]
  },
  {
   "cell_type": "code",
   "execution_count": null,
   "id": "5304f61d-264d-4e9b-b489-1b036bd25e25",
   "metadata": {},
   "outputs": [],
   "source": []
  },
  {
   "cell_type": "code",
   "execution_count": null,
   "id": "88d25c5c-9f47-4b27-ba5b-9978fa975ca9",
   "metadata": {},
   "outputs": [],
   "source": [
    "soal prepropessing "
   ]
  },
  {
   "cell_type": "code",
   "execution_count": 8,
   "id": "11aa2258-1227-4cb9-8c04-ea2ec26e81da",
   "metadata": {},
   "outputs": [],
   "source": [
    "import pandas\n",
    "import numpy\n",
    "from sklearn.preprocessing import LabelEncoder, OneHotEncoder, StandardScaler\n",
    "from sklearn.impute import SimpleImputer\n",
    "from sklearn.compose import ColumnTransformer "
   ]
  },
  {
   "cell_type": "code",
   "execution_count": 12,
   "id": "ed006ddd-6af8-46d2-a2c8-90fef37db8e1",
   "metadata": {},
   "outputs": [
    {
     "data": {
      "text/html": [
       "<div>\n",
       "<style scoped>\n",
       "    .dataframe tbody tr th:only-of-type {\n",
       "        vertical-align: middle;\n",
       "    }\n",
       "\n",
       "    .dataframe tbody tr th {\n",
       "        vertical-align: top;\n",
       "    }\n",
       "\n",
       "    .dataframe thead th {\n",
       "        text-align: right;\n",
       "    }\n",
       "</style>\n",
       "<table border=\"1\" class=\"dataframe\">\n",
       "  <thead>\n",
       "    <tr style=\"text-align: right;\">\n",
       "      <th></th>\n",
       "      <th>R&amp;D Spend</th>\n",
       "      <th>Administration</th>\n",
       "      <th>Marketing Spend</th>\n",
       "      <th>State</th>\n",
       "      <th>Profit</th>\n",
       "    </tr>\n",
       "  </thead>\n",
       "  <tbody>\n",
       "    <tr>\n",
       "      <th>48</th>\n",
       "      <td>542.05</td>\n",
       "      <td>51743.15</td>\n",
       "      <td>NaN</td>\n",
       "      <td>New York</td>\n",
       "      <td>35673.41</td>\n",
       "    </tr>\n",
       "    <tr>\n",
       "      <th>2</th>\n",
       "      <td>153441.51</td>\n",
       "      <td>101145.55</td>\n",
       "      <td>407934.54</td>\n",
       "      <td>Florida</td>\n",
       "      <td>191050.39</td>\n",
       "    </tr>\n",
       "    <tr>\n",
       "      <th>22</th>\n",
       "      <td>73994.56</td>\n",
       "      <td>122782.75</td>\n",
       "      <td>303319.26</td>\n",
       "      <td>Florida</td>\n",
       "      <td>110352.25</td>\n",
       "    </tr>\n",
       "    <tr>\n",
       "      <th>3</th>\n",
       "      <td>144372.41</td>\n",
       "      <td>118671.85</td>\n",
       "      <td>383199.62</td>\n",
       "      <td>New York</td>\n",
       "      <td>182901.99</td>\n",
       "    </tr>\n",
       "    <tr>\n",
       "      <th>14</th>\n",
       "      <td>119943.24</td>\n",
       "      <td>156547.42</td>\n",
       "      <td>256512.92</td>\n",
       "      <td>Florida</td>\n",
       "      <td>132602.65</td>\n",
       "    </tr>\n",
       "    <tr>\n",
       "      <th>4</th>\n",
       "      <td>142107.34</td>\n",
       "      <td>91391.77</td>\n",
       "      <td>366168.42</td>\n",
       "      <td>Florida</td>\n",
       "      <td>166187.94</td>\n",
       "    </tr>\n",
       "    <tr>\n",
       "      <th>17</th>\n",
       "      <td>94657.16</td>\n",
       "      <td>145077.58</td>\n",
       "      <td>282574.31</td>\n",
       "      <td>New York</td>\n",
       "      <td>125370.37</td>\n",
       "    </tr>\n",
       "  </tbody>\n",
       "</table>\n",
       "</div>"
      ],
      "text/plain": [
       "    R&D Spend  Administration  Marketing Spend     State     Profit\n",
       "48     542.05        51743.15              NaN  New York   35673.41\n",
       "2   153441.51       101145.55        407934.54   Florida  191050.39\n",
       "22   73994.56       122782.75        303319.26   Florida  110352.25\n",
       "3   144372.41       118671.85        383199.62  New York  182901.99\n",
       "14  119943.24       156547.42        256512.92   Florida  132602.65\n",
       "4   142107.34        91391.77        366168.42   Florida  166187.94\n",
       "17   94657.16       145077.58        282574.31  New York  125370.37"
      ]
     },
     "execution_count": 12,
     "metadata": {},
     "output_type": "execute_result"
    }
   ],
   "source": [
    "data_startups = pandas.read_csv('50_startups.csv')\n",
    "data_startups.sample(7)"
   ]
  },
  {
   "cell_type": "code",
   "execution_count": null,
   "id": "32d70260-20bb-4888-9c90-1db48fea5318",
   "metadata": {},
   "outputs": [],
   "source": [
    "analisa nilai mean\n"
   ]
  },
  {
   "cell_type": "code",
   "execution_count": 13,
   "id": "ba95df0a-e8d8-4c71-9b69-cb5de07649ac",
   "metadata": {},
   "outputs": [
    {
     "data": {
      "text/plain": [
       "array([[64664.71, 139553.16, 137962.62, 'California', 107404.34],\n",
       "       [75328.87, 144135.98, 134050.07, 'Florida', 105733.54],\n",
       "       [93863.75, 127320.38, 249839.44, 'Florida', 141585.52],\n",
       "       [46014.02, 85047.44, 205517.64, 'New York', 96479.51],\n",
       "       [15505.73, 127382.3, 35534.17, 'New York', 69758.98],\n",
       "       [28754.33, 118546.05, 172795.67, 'California', 78239.91],\n",
       "       [nan, 116983.8, 45173.06, 'California', 14681.4]], dtype=object)"
      ]
     },
     "execution_count": 13,
     "metadata": {},
     "output_type": "execute_result"
    }
   ],
   "source": [
    "X = data_startups.sample(7).values\n",
    "X"
   ]
  },
  {
   "cell_type": "code",
   "execution_count": 14,
   "id": "09065ea6-3b94-48d1-b230-32eb213960c2",
   "metadata": {},
   "outputs": [
    {
     "data": {
      "text/plain": [
       "array([[64664.71, 139553.16, 137962.62, 3, 107404.34],\n",
       "       [75328.87, 144135.98, 134050.07, 4, 105733.54],\n",
       "       [93863.75, 127320.38, 249839.44, 5, 141585.52],\n",
       "       [46014.02, 85047.44, 205517.64, 2, 96479.51],\n",
       "       [15505.73, 127382.3, 35534.17, 0, 69758.98],\n",
       "       [28754.33, 118546.05, 172795.67, 1, 78239.91],\n",
       "       [nan, 116983.8, 45173.06, 6, 14681.4]], dtype=object)"
      ]
     },
     "execution_count": 14,
     "metadata": {},
     "output_type": "execute_result"
    }
   ],
   "source": [
    "label_encoder = LabelEncoder()\n",
    "X[:, -2] =label_encoder.fit_transform(X[:,0])\n",
    "X"
   ]
  },
  {
   "cell_type": "code",
   "execution_count": 15,
   "id": "37ec3b99-802a-4266-9837-9165d94cbdd2",
   "metadata": {},
   "outputs": [
    {
     "data": {
      "text/html": [
       "<div>\n",
       "<style scoped>\n",
       "    .dataframe tbody tr th:only-of-type {\n",
       "        vertical-align: middle;\n",
       "    }\n",
       "\n",
       "    .dataframe tbody tr th {\n",
       "        vertical-align: top;\n",
       "    }\n",
       "\n",
       "    .dataframe thead th {\n",
       "        text-align: right;\n",
       "    }\n",
       "</style>\n",
       "<table border=\"1\" class=\"dataframe\">\n",
       "  <thead>\n",
       "    <tr style=\"text-align: right;\">\n",
       "      <th></th>\n",
       "      <th>0</th>\n",
       "      <th>1</th>\n",
       "      <th>2</th>\n",
       "      <th>3</th>\n",
       "      <th>4</th>\n",
       "      <th>5</th>\n",
       "      <th>6</th>\n",
       "      <th>7</th>\n",
       "      <th>8</th>\n",
       "      <th>9</th>\n",
       "      <th>10</th>\n",
       "    </tr>\n",
       "  </thead>\n",
       "  <tbody>\n",
       "    <tr>\n",
       "      <th>0</th>\n",
       "      <td>0.0</td>\n",
       "      <td>0.0</td>\n",
       "      <td>0.0</td>\n",
       "      <td>1.0</td>\n",
       "      <td>0.0</td>\n",
       "      <td>0.0</td>\n",
       "      <td>0.0</td>\n",
       "      <td>139553.16</td>\n",
       "      <td>137962.62</td>\n",
       "      <td>3</td>\n",
       "      <td>107404.34</td>\n",
       "    </tr>\n",
       "    <tr>\n",
       "      <th>1</th>\n",
       "      <td>0.0</td>\n",
       "      <td>0.0</td>\n",
       "      <td>0.0</td>\n",
       "      <td>0.0</td>\n",
       "      <td>1.0</td>\n",
       "      <td>0.0</td>\n",
       "      <td>0.0</td>\n",
       "      <td>144135.98</td>\n",
       "      <td>134050.07</td>\n",
       "      <td>4</td>\n",
       "      <td>105733.54</td>\n",
       "    </tr>\n",
       "    <tr>\n",
       "      <th>2</th>\n",
       "      <td>0.0</td>\n",
       "      <td>0.0</td>\n",
       "      <td>0.0</td>\n",
       "      <td>0.0</td>\n",
       "      <td>0.0</td>\n",
       "      <td>1.0</td>\n",
       "      <td>0.0</td>\n",
       "      <td>127320.38</td>\n",
       "      <td>249839.44</td>\n",
       "      <td>5</td>\n",
       "      <td>141585.52</td>\n",
       "    </tr>\n",
       "    <tr>\n",
       "      <th>3</th>\n",
       "      <td>0.0</td>\n",
       "      <td>0.0</td>\n",
       "      <td>1.0</td>\n",
       "      <td>0.0</td>\n",
       "      <td>0.0</td>\n",
       "      <td>0.0</td>\n",
       "      <td>0.0</td>\n",
       "      <td>85047.44</td>\n",
       "      <td>205517.64</td>\n",
       "      <td>2</td>\n",
       "      <td>96479.51</td>\n",
       "    </tr>\n",
       "    <tr>\n",
       "      <th>4</th>\n",
       "      <td>1.0</td>\n",
       "      <td>0.0</td>\n",
       "      <td>0.0</td>\n",
       "      <td>0.0</td>\n",
       "      <td>0.0</td>\n",
       "      <td>0.0</td>\n",
       "      <td>0.0</td>\n",
       "      <td>127382.3</td>\n",
       "      <td>35534.17</td>\n",
       "      <td>0</td>\n",
       "      <td>69758.98</td>\n",
       "    </tr>\n",
       "    <tr>\n",
       "      <th>5</th>\n",
       "      <td>0.0</td>\n",
       "      <td>1.0</td>\n",
       "      <td>0.0</td>\n",
       "      <td>0.0</td>\n",
       "      <td>0.0</td>\n",
       "      <td>0.0</td>\n",
       "      <td>0.0</td>\n",
       "      <td>118546.05</td>\n",
       "      <td>172795.67</td>\n",
       "      <td>1</td>\n",
       "      <td>78239.91</td>\n",
       "    </tr>\n",
       "    <tr>\n",
       "      <th>6</th>\n",
       "      <td>0.0</td>\n",
       "      <td>0.0</td>\n",
       "      <td>0.0</td>\n",
       "      <td>0.0</td>\n",
       "      <td>0.0</td>\n",
       "      <td>0.0</td>\n",
       "      <td>1.0</td>\n",
       "      <td>116983.8</td>\n",
       "      <td>45173.06</td>\n",
       "      <td>6</td>\n",
       "      <td>14681.4</td>\n",
       "    </tr>\n",
       "  </tbody>\n",
       "</table>\n",
       "</div>"
      ],
      "text/plain": [
       "    0    1    2    3    4    5    6          7          8  9          10\n",
       "0  0.0  0.0  0.0  1.0  0.0  0.0  0.0  139553.16  137962.62  3  107404.34\n",
       "1  0.0  0.0  0.0  0.0  1.0  0.0  0.0  144135.98  134050.07  4  105733.54\n",
       "2  0.0  0.0  0.0  0.0  0.0  1.0  0.0  127320.38  249839.44  5  141585.52\n",
       "3  0.0  0.0  1.0  0.0  0.0  0.0  0.0   85047.44  205517.64  2   96479.51\n",
       "4  1.0  0.0  0.0  0.0  0.0  0.0  0.0   127382.3   35534.17  0   69758.98\n",
       "5  0.0  1.0  0.0  0.0  0.0  0.0  0.0  118546.05  172795.67  1   78239.91\n",
       "6  0.0  0.0  0.0  0.0  0.0  0.0  1.0   116983.8   45173.06  6    14681.4"
      ]
     },
     "execution_count": 15,
     "metadata": {},
     "output_type": "execute_result"
    }
   ],
   "source": [
    "one_hot_encoder = OneHotEncoder(categories=X[0])\n",
    "ct = ColumnTransformer([(\"Datastartup\", OneHotEncoder(),[0])], remainder=\"passthrough\")\n",
    "X = ct.fit_transform(X)\n",
    "df = pandas.DataFrame(X)\n",
    "df"
   ]
  },
  {
   "cell_type": "code",
   "execution_count": 16,
   "id": "df1fe94c-c166-44a1-a55e-dc574cc7798a",
   "metadata": {},
   "outputs": [
    {
     "data": {
      "text/plain": [
       "array([[     0,      0,      0,      1,      0,      0,      0, 139553,\n",
       "        137962,      3, 107404],\n",
       "       [     0,      0,      0,      0,      1,      0,      0, 144135,\n",
       "        134050,      4, 105733],\n",
       "       [     0,      0,      0,      0,      0,      1,      0, 127320,\n",
       "        249839,      5, 141585],\n",
       "       [     0,      0,      1,      0,      0,      0,      0,  85047,\n",
       "        205517,      2,  96479],\n",
       "       [     1,      0,      0,      0,      0,      0,      0, 127382,\n",
       "         35534,      0,  69758],\n",
       "       [     0,      1,      0,      0,      0,      0,      0, 118546,\n",
       "        172795,      1,  78239],\n",
       "       [     0,      0,      0,      0,      0,      0,      1, 116983,\n",
       "         45173,      6,  14681]])"
      ]
     },
     "execution_count": 16,
     "metadata": {},
     "output_type": "execute_result"
    }
   ],
   "source": [
    "X=X.astype(int)\n",
    "X"
   ]
  },
  {
   "cell_type": "code",
   "execution_count": 23,
   "id": "cb15d951-2b77-4d81-b1f4-34076e0b6713",
   "metadata": {},
   "outputs": [
    {
     "data": {
      "text/plain": [
       "array([[-0.40824829, -0.40824829, -0.40824829,  2.44948974, -0.40824829,\n",
       "        -0.40824829, -0.40824829,  0.93856478, -0.02959088,  0.        ,\n",
       "         0.53671735],\n",
       "       [-0.40824829, -0.40824829, -0.40824829, -0.40824829,  2.44948974,\n",
       "        -0.40824829, -0.40824829,  1.19388496, -0.0831266 ,  0.5       ,\n",
       "         0.4912079 ],\n",
       "       [-0.40824829, -0.40824829, -0.40824829, -0.40824829, -0.40824829,\n",
       "         2.44948974, -0.40824829,  0.25691226,  1.50144578,  1.        ,\n",
       "         1.46763204],\n",
       "       [-0.40824829, -0.40824829,  2.44948974, -0.40824829, -0.40824829,\n",
       "        -0.40824829, -0.40824829, -2.09864215,  0.89489924, -0.5       ,\n",
       "         0.23917652],\n",
       "       [ 2.44948974, -0.40824829, -0.40824829, -0.40824829, -0.40824829,\n",
       "        -0.40824829, -0.40824829,  0.26036705, -1.43131798, -1.5       ,\n",
       "        -0.48856612],\n",
       "       [-0.40824829,  2.44948974, -0.40824829, -0.40824829, -0.40824829,\n",
       "        -0.40824829, -0.40824829, -0.23199637,  0.4470987 , -1.        ,\n",
       "        -0.25758729],\n",
       "       [-0.40824829, -0.40824829, -0.40824829, -0.40824829, -0.40824829,\n",
       "        -0.40824829,  2.44948974, -0.31909053, -1.29940827,  1.5       ,\n",
       "        -1.9885804 ]])"
      ]
     },
     "execution_count": 23,
     "metadata": {},
     "output_type": "execute_result"
    }
   ],
   "source": [
    "sc = StandardScaler()\n",
    "X = sc.fit_transform(X)\n",
    "X"
   ]
  },
  {
   "cell_type": "code",
   "execution_count": null,
   "id": "f0c3349b-1bce-4847-ada2-54b8fd3b110c",
   "metadata": {},
   "outputs": [],
   "source": []
  },
  {
   "cell_type": "code",
   "execution_count": null,
   "id": "3fe881de-9bf8-4934-8307-d8436ae015bf",
   "metadata": {},
   "outputs": [],
   "source": []
  }
 ],
 "metadata": {
  "kernelspec": {
   "display_name": "Python 3 (ipykernel)",
   "language": "python",
   "name": "python3"
  },
  "language_info": {
   "codemirror_mode": {
    "name": "ipython",
    "version": 3
   },
   "file_extension": ".py",
   "mimetype": "text/x-python",
   "name": "python",
   "nbconvert_exporter": "python",
   "pygments_lexer": "ipython3",
   "version": "3.11.7"
  }
 },
 "nbformat": 4,
 "nbformat_minor": 5
}
