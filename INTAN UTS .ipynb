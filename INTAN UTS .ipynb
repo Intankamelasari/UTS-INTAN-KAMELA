{
 "cells": [
  {
   "cell_type": "code",
   "execution_count": null,
   "id": "7d6cd1d8-763d-47fe-bde6-51dc3770c5dd",
   "metadata": {},
   "outputs": [],
   "source": [
    "jawaaban no 1\n",
    "[\n",
    "    {\"name\": \"Company 3\"},\n",
    "    {\"name\": \"Company 2\"},\n",
    "    {\"name\": \"Company 1\"}\n",
    "]\n",
    "\n"
   ]
  },
  {
   "cell_type": "code",
   "execution_count": null,
   "id": "04a8a3c0-30a6-4224-967e-aa8433e9cdf9",
   "metadata": {},
   "outputs": [],
   "source": [
    "\n",
    "jawaban no 2\n",
    "\n",
    "Company 1: Retail (United States)\n",
    "Company 2: Technology (United Kingdom)\n",
    "Company 3: Healthcare (United States)\n",
    "\n"
   ]
  },
  {
   "cell_type": "code",
   "execution_count": null,
   "id": "9583a8ff-609f-4bfe-bc1c-55bd07e46d11",
   "metadata": {},
   "outputs": [],
   "source": [
    "jawaban no 3\n",
    "{\n",
    "    \"Retail\": [\n",
    "        \"John Doe\",\n",
    "        \"Robert White\",\n",
    "        \"Ying Han Tan\"\n",
    "    ],\n",
    "    \"Technology\": [\n",
    "        \"Tom Smith\",\n",
    "        \"Rubby Lee\"\n",
    "    ],\n",
    "    \"Healthcare\": [\n",
    "        \"Andrew Sebastian\",\n",
    "        \"Kenneth Ng\"\n",
    "    ]\n",
    "}\n"
   ]
  },
  {
   "cell_type": "code",
   "execution_count": null,
   "id": "6034ece6-93f9-4ea4-b2fc-8407a53223ee",
   "metadata": {},
   "outputs": [],
   "source": [
    "jawaban no 4\n",
    "[\n",
    "    {\"full_name\": \"John Doe\", \"company\": \"Company 1\", \"country\": \"United States\"},\n",
    "    {\"full_name\": \"Tom Smith\", \"company\": \"Company 2\", \"country\": \"United Kingdom\"},\n",
    "    {\"full_name\": \"Andrew Sebastian\", \"company\": \"Company 3\", \"country\": \"United States\"},\n",
    "    {\"full_name\": \"Ying Han Tan\", \"company\": \"Company 1\", \"country\": \"United States\"},\n",
    "    {\"full_name\": \"Kenneth Ng\", \"company\": \"Company 3\", \"country\": \"United States\"},\n",
    "    {\"full_name\": \"Rubby Lee\", \"company\": \"Company 2\", \"country\": \"United Kingdom\"},\n",
    "    {\"full_name\": \"Robert White\", \"company\": \"Company 1\", \"country\": \"United States\"}\n",
    "]\n"
   ]
  },
  {
   "cell_type": "code",
   "execution_count": null,
   "id": "0b9b70a4-21f7-4ba9-9a66-7a9a1a7b7022",
   "metadata": {},
   "outputs": [],
   "source": [
    "jawaban no 5\n",
    "[\n",
    "    {\n",
    "        \"company\": \"Company 1\",\n",
    "        \"employee_nationality\": {\n",
    "            \"Australia\": 2,\n",
    "            \"United Kingdom\": 1\n",
    "        }\n",
    "    },\n",
    "    {\n",
    "        \"company\": \"Company 2\",\n",
    "        \"employee_nationality\": {\n",
    "            \"United States\": 1,\n",
    "            \"Hong Kong\": 1\n",
    "        }\n",
    "    },\n",
    "    {\n",
    "        \"company\": \"Company 3\",\n",
    "        \"employee_nationality\": {\n",
    "            \"United States\": 2\n",
    "        }\n",
    "    }\n",
    "]\n"
   ]
  },
  {
   "cell_type": "code",
   "execution_count": null,
   "id": "63769efc-2591-4523-b638-49530b15d63b",
   "metadata": {},
   "outputs": [],
   "source": []
  }
 ],
 "metadata": {
  "kernelspec": {
   "display_name": "Python 3 (ipykernel)",
   "language": "python",
   "name": "python3"
  },
  "language_info": {
   "codemirror_mode": {
    "name": "ipython",
    "version": 3
   },
   "file_extension": ".py",
   "mimetype": "text/x-python",
   "name": "python",
   "nbconvert_exporter": "python",
   "pygments_lexer": "ipython3",
   "version": "3.11.7"
  }
 },
 "nbformat": 4,
 "nbformat_minor": 5
}
